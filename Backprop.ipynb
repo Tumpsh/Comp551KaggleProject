{
 "cells": [
  {
   "cell_type": "code",
   "execution_count": null,
   "metadata": {
    "colab": {
     "base_uri": "https://localhost:8080/",
     "height": 50
    },
    "colab_type": "code",
    "id": "VqXJAC23V9yy",
    "outputId": "13a35418-9a99-4545-eaed-9d0fe1b800d1"
   },
   "outputs": [],
   "source": [
    "import numpy as np \n",
    "import pandas as pd \n",
    "import matplotlib.pyplot as plt\n",
    "import math\n",
    "\n",
    "import multiprocessing\n",
    "from multiprocessing.pool import ThreadPool\n",
    "\n",
    "from sklearn.model_selection import train_test_split\n",
    "\n",
    "from sklearn.preprocessing import LabelBinarizer\n",
    "\n",
    "import keras\n",
    "from keras.models import *\n",
    "from keras.layers import *\n",
    "from keras.optimizers import *\n",
    "from keras.callbacks import ModelCheckpoint, LearningRateScheduler\n",
    "\n",
    "import cv2\n",
    "\n",
    "import os\n",
    "\n",
    "\n",
    "from sklearn.svm import SVC\n",
    "from sklearn.preprocessing import LabelBinarizer\n",
    "from sklearn import datasets, svm, metrics\n",
    "from sklearn import decomposition\n",
    "\n",
    "from sklearn.model_selection import GridSearchCV, RandomizedSearchCV\n",
    "from sklearn.metrics import classification_report\n",
    "from sklearn.metrics import log_loss\n",
    "from sklearn.model_selection import StratifiedShuffleSplit\n",
    "from sklearn.ensemble import AdaBoostClassifier\n",
    "\n",
    "from sklearn.neighbors import NearestNeighbors\n",
    "from sklearn.neighbors.nearest_centroid import NearestCentroid\n",
    "\n",
    "from sklearn import preprocessing\n",
    "\n",
    "from cv2 import ml\n"
   ]
  },
  {
   "cell_type": "code",
   "execution_count": null,
   "metadata": {
    "colab": {},
    "colab_type": "code",
    "id": "vOVxBFDyV9y4",
    "scrolled": true
   },
   "outputs": [],
   "source": [
    "## Set local data path\n",
    "dataPath = 'all'\n",
    "localPath = ''\n",
    "print(os.listdir(dataPath))\n",
    "\n",
    "images = np.load(dataPath + '/train_images.npy', encoding=\"bytes\")\n",
    "labels = pd.read_csv(dataPath + '/train_labels.csv')\n",
    "images.shape\n"
   ]
  },
  {
   "cell_type": "code",
   "execution_count": null,
   "metadata": {
    "colab": {
     "base_uri": "https://localhost:8080/",
     "height": 566
    },
    "colab_type": "code",
    "id": "t7M-4si7V9zA",
    "outputId": "9c8a111c-e034-4c0b-fcd0-9b7a0758cc28"
   },
   "outputs": [],
   "source": [
    "pd.Series(labels.groupby(['Category']).size()).sort_values(ascending=True)"
   ]
  },
  {
   "cell_type": "code",
   "execution_count": null,
   "metadata": {
    "colab": {},
    "colab_type": "code",
    "id": "m64vsh9rV9zG"
   },
   "outputs": [],
   "source": [
    "def preProcessImageObsolete(image, cutoff=127, maxContours=5):\n",
    "    image = np.uint8(image)\n",
    "    im = np.uint8(image)\n",
    "    red, thresh = cv2.threshold(im, cutoff, 255, 0)\n",
    "    im2, contours, hierarchy= cv2.findContours(thresh, cv2.RETR_LIST, cv2.CHAIN_APPROX_SIMPLE)\n",
    "    mask = np.uint8(np.ones(im.shape))\n",
    "    largest_contours = sorted(contours, key=cv2.contourArea)\n",
    "\n",
    "    for ind, contour in enumerate(largest_contours[maxContours:]):\n",
    "        mask = cv2.drawContours(mask, [largest_contours[ind]], -1, 0, -1)\n",
    "        \n",
    "    filteredImage = cv2.bitwise_and(thresh, thresh, mask=mask)\n",
    "    ## plt.imshow(filteredImage)\n",
    "    return filteredImage\n",
    "    "
   ]
  },
  {
   "cell_type": "code",
   "execution_count": null,
   "metadata": {
    "colab": {},
    "colab_type": "code",
    "id": "v4-sPNyMV9zK"
   },
   "outputs": [],
   "source": [
    "def preProcessImage(image, cutoff=127, areaCutoff=14, maxContours=4, fliplr=False):\n",
    "    image = np.uint8(image)\n",
    "    im = np.uint8(image)\n",
    "    red, thresh = cv2.threshold(im, cutoff, 255, 0)\n",
    "    im2, contours, hierarchy= cv2.findContours(thresh, cv2.RETR_LIST, cv2.CHAIN_APPROX_SIMPLE)\n",
    "    mask = np.zeros(im.shape, np.uint8)\n",
    "    largest_contours = sorted(contours, key=cv2.contourArea, reverse=True)\n",
    "    \n",
    "    for ind, contour in enumerate(largest_contours[:maxContours]):\n",
    "        if cv2.contourArea(contour) > areaCutoff:\n",
    "            x, y, w, h = cv2.boundingRect(contour)\n",
    "            mask[y:y+h, x:x+w] = 255\n",
    "        \n",
    "    filteredImage = cv2.bitwise_and(image, image, mask=mask)\n",
    "    #plt.imshow(filteredImage)\n",
    "    #plt.figure()\n",
    "    #plt.imshow(thresh)\n",
    "    #plt.figure()\n",
    "    #plt.imshow(mask)\n",
    "    if fliplr:\n",
    "        return np.fliplr(filteredImage).reshape((image.shape))\n",
    "    return filteredImage.reshape((image.shape))"
   ]
  },
  {
   "cell_type": "code",
   "execution_count": null,
   "metadata": {
    "colab": {},
    "colab_type": "code",
    "id": "ZKWDuYEyV9zO"
   },
   "outputs": [],
   "source": [
    "#ONE SINGLE PICT"
   ]
  },
  {
   "cell_type": "code",
   "execution_count": null,
   "metadata": {
    "colab": {
     "base_uri": "https://localhost:8080/",
     "height": 731
    },
    "colab_type": "code",
    "id": "FCCwuyIsV9zS",
    "outputId": "9aab7937-17ba-4867-bdf0-aea95193b827"
   },
   "outputs": [],
   "source": [
    "num = 100\n",
    "image = images[num][1].reshape(100, 100)\n",
    "betterImage = preProcessImage(np.fliplr(image), maxContours=1)\n",
    "plt.imshow(betterImage, cmap=plt.cm.binary)\n",
    "plt.figure()\n",
    "plt.imshow(image, cmap=plt.cm.binary)\n",
    "print(labels.iloc[num])"
   ]
  },
  {
   "cell_type": "code",
   "execution_count": null,
   "metadata": {
    "colab": {},
    "colab_type": "code",
    "id": "wZF0kC4sV9zY"
   },
   "outputs": [],
   "source": [
    "allData = pd.DataFrame(np.array(list(images[:,1]))).assign(label=labels['Category'])\n",
    "num_classes = len(labels['Category'].unique())\n",
    "lb = LabelBinarizer()\n",
    "lb.fit(labels['Category'].unique())\n",
    "valueCounts = labels['Category'].value_counts()\n",
    "\n",
    "xTrain, xValid = train_test_split(allData, stratify=labels['Category'], test_size=0.05)\n",
    "trainInds = xTrain.index\n",
    "validInds = xValid.index\n",
    "xTrainRaw = xTrain.drop('label', axis=1).values.reshape((xTrain.shape[0], 100, 100, 1))\n",
    "xValidRaw = xValid.drop('label', axis=1).values.reshape((xValid.shape[0], 100, 100, 1))\n",
    "\n",
    "yTrainString = labels.iloc[trainInds, 1].values\n",
    "yValidString = labels.iloc[validInds, 1].values\n",
    "\n",
    "yTrain = lb.transform(yTrainString)\n",
    "yValid = lb.transform(yValidString)"
   ]
  },
  {
   "cell_type": "code",
   "execution_count": null,
   "metadata": {
    "colab": {},
    "colab_type": "code",
    "id": "1BtalHx7aQbs"
   },
   "outputs": [],
   "source": [
    "yValid"
   ]
  },
  {
   "cell_type": "code",
   "execution_count": null,
   "metadata": {
    "colab": {},
    "colab_type": "code",
    "id": "gOy1pYg3V9zb"
   },
   "outputs": [],
   "source": [
    "epochs = 500\n",
    "batch_size = 128"
   ]
  },
  {
   "cell_type": "code",
   "execution_count": null,
   "metadata": {
    "colab": {},
    "colab_type": "code",
    "id": "z4QMAxLFV9zf"
   },
   "outputs": [],
   "source": [
    "pool = ThreadPool(multiprocessing.cpu_count())\n",
    "xTrainUnflipped = pool.map(lambda im: preProcessImage(im).flatten(), [xTrainRaw[i] for i in range(xTrainRaw.shape[0])])\n",
    "xTrainUnflipped = np.array(xTrainUnflipped)\n",
    "xTrainFlipped = pool.map(lambda im: preProcessImage(im, fliplr=True).flatten(), [xTrainRaw[i] for i in range(xTrainRaw.shape[0])])\n",
    "xTrainFlipped = np.array(xTrainFlipped)\n",
    "\n",
    "xValidUnflipped = pool.map(lambda im: preProcessImage(im).flatten(), [xValidRaw[i] for i in range(xValidRaw.shape[0])])\n",
    "xValidUnflipped = np.array(xValidUnflipped)\n",
    "xValidFlipped = pool.map(lambda im: preProcessImage(im, fliplr=True).flatten(), [xValidRaw[i] for i in range(xValidRaw.shape[0])])\n",
    "xValidFlipped = np.array(xValidFlipped)\n",
    "\n",
    "xTrain = np.concatenate((xTrainUnflipped, xTrainFlipped), axis=0)\n",
    "xValid = np.concatenate((xValidUnflipped, xValidFlipped), axis=0)\n",
    "\n",
    "yTrain = np.concatenate((yTrain, yTrain), axis=0)\n",
    "yValid = np.concatenate((yValid, yValid), axis=0)\n",
    "\n",
    "\n",
    "pool.close()\n",
    "pool.join()"
   ]
  },
  {
   "cell_type": "code",
   "execution_count": null,
   "metadata": {
    "colab": {
     "base_uri": "https://localhost:8080/",
     "height": 33
    },
    "colab_type": "code",
    "id": "m24jkVSWZZuf",
    "outputId": "c7e16268-136f-411a-e98f-ab4cc95c9b2d"
   },
   "outputs": [],
   "source": [
    "xTrain.shape"
   ]
  },
  {
   "cell_type": "code",
   "execution_count": null,
   "metadata": {
    "colab": {
     "base_uri": "https://localhost:8080/",
     "height": 697
    },
    "colab_type": "code",
    "id": "rk-KJRorV9zk",
    "outputId": "4bbb30ce-6715-4af0-da19-32316f491fda"
   },
   "outputs": [],
   "source": [
    "#ONE EX TRAIN\n",
    "num = 1011\n",
    "plt.imshow(xTrain[num].reshape(100,100))\n",
    "plt.figure()\n",
    "plt.imshow(xTrainRaw[num].reshape(100,100))\n",
    "yTrainString[num]"
   ]
  },
  {
   "cell_type": "code",
   "execution_count": null,
   "metadata": {
    "colab": {},
    "colab_type": "code",
    "id": "Cy9p3i7nV9zo"
   },
   "outputs": [],
   "source": [
    "trainIndsPerClass = {}\n",
    "validIndsPerClass = {}\n",
    "\n",
    "for i,label in enumerate(lb.classes_):\n",
    "    trainIndsPerClass.update({label:np.where(yTrain[:,i] == 1)[0]})\n",
    "    validIndsPerClass.update({label:np.where(yValid[:,i] == 1)[0]})"
   ]
  },
  {
   "cell_type": "code",
   "execution_count": null,
   "metadata": {
    "colab": {
     "base_uri": "https://localhost:8080/",
     "height": 14368
    },
    "colab_type": "code",
    "id": "V6W15KM9V9zs",
    "outputId": "ec7b280f-95a1-4e15-f23b-58ca8c919c67",
    "scrolled": false
   },
   "outputs": [],
   "source": [
    "for num in trainIndsPerClass['apple']:\n",
    "    imagebefore = images[trainInds][num][1].reshape(100,100)\n",
    "    plt.imshow(imagebefore, cmap=plt.cm.binary)\n",
    "    plt.show()\n",
    "    plt.close()\n",
    "    image = xTrain[num].reshape(100, 100) \n",
    "    plt.figure()\n",
    "    plt.imshow(image, cmap=plt.cm.binary)\n",
    "    plt.show()\n",
    "    plt.close()\n",
    "    print(labels.iloc[trainInds[num],1])"
   ]
  },
  {
   "cell_type": "code",
   "execution_count": null,
   "metadata": {
    "colab": {},
    "colab_type": "code",
    "id": "UyXUChc_V9z4"
   },
   "outputs": [],
   "source": [
    "#to 1d "
   ]
  },
  {
   "cell_type": "code",
   "execution_count": null,
   "metadata": {
    "colab": {},
    "colab_type": "code",
    "id": "Ynl146lOV90B"
   },
   "outputs": [],
   "source": []
  },
  {
   "cell_type": "code",
   "execution_count": null,
   "metadata": {
    "colab": {},
    "colab_type": "code",
    "id": "3zVdt5gzV90J"
   },
   "outputs": [],
   "source": [
    "def cross_entropy(predictions, targets, epsilon=1e-12):\n",
    "    \"\"\"\n",
    "    Input: predictions (N, k) ndarray\n",
    "           targets (N, k) ndarray        \n",
    "    Returns: scalar\n",
    "    includes smoothing\n",
    "    \"\"\"\n",
    "    predictions = np.clip(predictions, epsilon, 1. - epsilon)\n",
    "    N = predictions.shape[0]\n",
    "    crossentropy = -np.sum(targets*np.log(predictions+1e-9))/N\n",
    "    return crossentropy"
   ]
  },
  {
   "cell_type": "code",
   "execution_count": null,
   "metadata": {
    "colab": {
     "base_uri": "https://localhost:8080/",
     "height": 33
    },
    "colab_type": "code",
    "id": "LYZpjEYzV90O",
    "outputId": "d9a8bb9a-f7fe-4f3c-d01a-ddd87ea88a39"
   },
   "outputs": [],
   "source": [
    "cross_entropy(np.array([1,2,3]), np.array([1,2,5]))"
   ]
  },
  {
   "cell_type": "code",
   "execution_count": null,
   "metadata": {
    "colab": {},
    "colab_type": "code",
    "id": "CSlIl5KDV90X"
   },
   "outputs": [],
   "source": [
    "def sigmoid(x):\n",
    "    \"\"\"\n",
    "    Input x. Returns : sigmoid(x)\n",
    "    \"\"\"\n",
    "    return 1 / (1 + math.exp(-x))\n",
    "def dsigmoid(x):\n",
    "    \"\"\"\n",
    "    Input x. Returns : derivative sigmoid(x) = sigmoid * (1 - sigmoid(x))\n",
    "    \"\"\"\n",
    "    return 1 - sigmoid(1-x) "
   ]
  },
  {
   "cell_type": "code",
   "execution_count": null,
   "metadata": {
    "colab": {},
    "colab_type": "code",
    "id": "inxq0aCMV90a"
   },
   "outputs": [],
   "source": [
    "class myNN:\n",
    "    def __init__(self, inN, outM, hiddenH, learningRate):\n",
    "        self.inN = inN\n",
    "        self.inNNum = len(inN)\n",
    "        self.outM = outM #trues!\n",
    "        self.outMNum = len(outM)\n",
    "        self.hiddenH = hiddenH #this is numpy array indicating size of hidden layers\n",
    "        self.hiddenNum = len(hiddenH)\n",
    "        self.learningRate = learningRate \n",
    "        self.createRandom()\n",
    "        self.nodes = []\n",
    "        self.nodes.append(inN)\n",
    "        for i in range(self.hiddenNum):\n",
    "            self.nodes.append(np.ones(hiddenH[i])) #init ones\n",
    "        self.nodes.append(np.ones(len(outM))) #init ones\n",
    "    \n",
    "    def createRandom(self):\n",
    "        if self.hiddenNum == 0:\n",
    "            self.weights = []\n",
    "            self.weights.append(np.random.rand(self.inNNum+1,self.outMNum))\n",
    "            \n",
    "        else:\n",
    "            self.weights = []\n",
    "            self.weights.append(np.random.rand(self.inNNum+1,self.hiddenH[0]))\n",
    "            for i in range(self.hiddenNum-1):\n",
    "                self.weights.append(np.random.rand(self.hiddenH[i]+1, self.hiddenH[i+1]))\n",
    "            self.weights.append(np.random.rand(self.hiddenH[-1]+1, self.outMNum))\n",
    "        \n",
    "    def run(self):\n",
    "        vf = np.vectorize(sigmoid)\n",
    "        for i in range(self.hiddenNum+1):\n",
    "            self.nodes[i+1] = vf(np.append(self.nodes[i].T,1) @ self.weights[i])\n",
    "            \n",
    "    def errorvector(self):\n",
    "        vf = np.vectorize(sigmoid)\n",
    "        return vf(self.nodes[-1]) - self.outM\n",
    "            \n",
    "    def error(self):\n",
    "        return cross_entropy(self.nodes[-1] , self.outM)\n",
    "    \n",
    "    def train(self):\n",
    "        self.Ds = [] # reversed!\n",
    "        vdf = np.vectorize(dsigmoid)\n",
    "        vf = np.vectorize(sigmoid)\n",
    "        self.Ds.append(np.diag(vdf(self.nodes[-1])))\n",
    "        for i in range(self.hiddenNum):\n",
    "            self.Ds.append(np.diag(np.append(vdf(self.nodes[-2-i]), 1)))\n",
    "        \"\"\"\n",
    "        print(\"Ds:\")\n",
    "        print(self.Ds)\n",
    "        \"\"\"\n",
    "        self.deltas = [] # reversed!\n",
    "        self.deltas.append(self.Ds[0] @ self.errorvector())\n",
    "        for i in range(self.hiddenNum):\n",
    "            \"\"\"\n",
    "            print(self.Ds[i+1])\n",
    "            print(self.weights[-1-i])\n",
    "            print(self.deltas[-1])\n",
    "            \"\"\"\n",
    "            self.deltas.append(self.Ds[i+1][:-1] @ vf(self.weights[-1-i]) @ self.deltas[-1])\n",
    "        \"\"\"  \n",
    "        print(\"--\")\n",
    "        print(self.deltas)\n",
    "        print(self.nodes)\n",
    "        \"\"\"\n",
    "        for i in range(self.hiddenNum+1):\n",
    "            \"\"\"\n",
    "            print(self.weights[i])\n",
    "            print(self.deltas[-1-i])\n",
    "            print(np.append(vf(self.nodes[-1-i]),1))\n",
    "            print(\"-\")\n",
    "            print(self.deltas[-1-i].shape)\n",
    "            print(np.append(vf(self.nodes[i]),1).shape)\n",
    "            \"\"\"\n",
    "            self.weights[i] -= (self.learningRate * np.outer(self.deltas[-1-i], np.append(vf(self.nodes[i]),1))).T\n",
    "    \n",
    "    def trainEpochs(self, n):\n",
    "        for _ in range(n):\n",
    "            self.train()\n",
    "            self.run()\n",
    "            print(self.error())\n",
    "    \n",
    "    def show(self):\n",
    "        print( \"input layer: \" +str(np.append(self.nodes[0],1)) )\n",
    "        for i in range(self.hiddenNum):\n",
    "            print(self.weights[i])\n",
    "            print( str(i+1) + \" layer: \" + str(np.append(self.nodes[i+1],1)))\n",
    "        print(self.weights[-1])\n",
    "        print( \"output layer: \" + str(self.nodes[-1]))\n",
    "            "
   ]
  },
  {
   "cell_type": "code",
   "execution_count": null,
   "metadata": {
    "colab": {
     "base_uri": "https://localhost:8080/",
     "height": 800
    },
    "colab_type": "code",
    "id": "Bk1UqNasV90e",
    "outputId": "8c251207-30ec-4259-dc70-901c5bc84522",
    "scrolled": true
   },
   "outputs": [],
   "source": [
    "nett = myNN(inN=np.array([0.5,1.2,3.14,12.14,5.6]), outM=np.array([1,0,1,1,0]), hiddenH=np.array([2,3,2,5,10]), learningRate=0.01)\n",
    "nett.run()\n",
    "nett.show()"
   ]
  },
  {
   "cell_type": "code",
   "execution_count": null,
   "metadata": {
    "colab": {},
    "colab_type": "code",
    "id": "hoHpU5eCV90l"
   },
   "outputs": [],
   "source": [
    "nett.train()"
   ]
  },
  {
   "cell_type": "code",
   "execution_count": null,
   "metadata": {
    "colab": {},
    "colab_type": "code",
    "id": "EZgWWR_oV90o"
   },
   "outputs": [],
   "source": [
    "simpleNetwork = myNN(inN=np.array([0.5,1.2,3.14]), outM=np.array([1,0,1]), hiddenH=np.array([2,3,2]), learningRate=0.1)\n",
    "simpleNetwork.run()"
   ]
  },
  {
   "cell_type": "code",
   "execution_count": null,
   "metadata": {
    "colab": {
     "base_uri": "https://localhost:8080/",
     "height": 333
    },
    "colab_type": "code",
    "id": "tATuoWlAV90r",
    "outputId": "47d68fa1-3a3b-4f86-aab2-31e09043e3b3",
    "scrolled": false
   },
   "outputs": [],
   "source": [
    "simpleNetwork.show()"
   ]
  },
  {
   "cell_type": "code",
   "execution_count": null,
   "metadata": {
    "colab": {
     "base_uri": "https://localhost:8080/",
     "height": 33
    },
    "colab_type": "code",
    "id": "6Dw1xUrLV90v",
    "outputId": "b39b2d93-da49-4d24-9e4f-bb95540de2a5"
   },
   "outputs": [],
   "source": [
    "simpleNetwork.error()"
   ]
  },
  {
   "cell_type": "code",
   "execution_count": null,
   "metadata": {
    "colab": {},
    "colab_type": "code",
    "id": "s0EZ2PYtV901"
   },
   "outputs": [],
   "source": [
    "simpleNetwork.train()"
   ]
  },
  {
   "cell_type": "code",
   "execution_count": null,
   "metadata": {
    "colab": {
     "base_uri": "https://localhost:8080/",
     "height": 333
    },
    "colab_type": "code",
    "id": "gfsNz1Q_V905",
    "outputId": "881a31f8-fe0d-47fb-ce87-2d4904e58925"
   },
   "outputs": [],
   "source": [
    "simpleNetwork.run()\n",
    "simpleNetwork.show()"
   ]
  },
  {
   "cell_type": "code",
   "execution_count": null,
   "metadata": {
    "colab": {
     "base_uri": "https://localhost:8080/",
     "height": 33
    },
    "colab_type": "code",
    "id": "C_DjH1XwV91A",
    "outputId": "84ebc704-7b5a-45bd-8a8a-e4e8b876134d"
   },
   "outputs": [],
   "source": [
    "simpleNetwork.error()"
   ]
  },
  {
   "cell_type": "code",
   "execution_count": null,
   "metadata": {
    "colab": {
     "base_uri": "https://localhost:8080/",
     "height": 350
    },
    "colab_type": "code",
    "id": "lZm1sYoUV91D",
    "outputId": "9c46973d-3591-4fc0-fdda-377e4a35ff4a"
   },
   "outputs": [],
   "source": [
    "simpleNetwork.trainEpochs(20)"
   ]
  },
  {
   "cell_type": "code",
   "execution_count": null,
   "metadata": {
    "colab": {},
    "colab_type": "code",
    "id": "SMRvypbqV91J"
   },
   "outputs": [],
   "source": [
    "withoutHidden = myNN(inN=np.array([0.5,1.2,3.14]), outM=np.array([1,0,1]), hiddenH=np.array([]), learningRate=0.1)\n",
    "withoutHidden.run()"
   ]
  },
  {
   "cell_type": "code",
   "execution_count": null,
   "metadata": {
    "colab": {
     "base_uri": "https://localhost:8080/",
     "height": 116
    },
    "colab_type": "code",
    "id": "bBY7b1XHV91M",
    "outputId": "79c9d4c4-746b-43b3-a451-974f8e1ef4f7"
   },
   "outputs": [],
   "source": [
    "withoutHidden.show()"
   ]
  },
  {
   "cell_type": "code",
   "execution_count": null,
   "metadata": {
    "colab": {
     "base_uri": "https://localhost:8080/",
     "height": 33
    },
    "colab_type": "code",
    "id": "Kc_rg4KfV91R",
    "outputId": "a6ec1fc3-11a0-4b99-adba-3be3fc27e8fb"
   },
   "outputs": [],
   "source": [
    "xTrain.shape"
   ]
  },
  {
   "cell_type": "code",
   "execution_count": null,
   "metadata": {
    "colab": {},
    "colab_type": "code",
    "id": "qNdNOB88anAi"
   },
   "outputs": [],
   "source": [
    "#model Kaggle"
   ]
  },
  {
   "cell_type": "code",
   "execution_count": null,
   "metadata": {
    "colab": {},
    "colab_type": "code",
    "id": "indqDJLMaoxB"
   },
   "outputs": [],
   "source": [
    "kaggle = myNN(inN = xTrain, outM = yTrain, hiddenH=[100, 100, 100, 100], learningRate=0.1)\n",
    "kaggle.run()\n",
    "kaggle.error()"
   ]
  },
  {
   "cell_type": "code",
   "execution_count": null,
   "metadata": {
    "colab": {},
    "colab_type": "code",
    "id": "3Vv1g-VAV91T"
   },
   "outputs": [],
   "source": [
    "kaggle.train()\n",
    "kaggle.run()\n",
    "kaggle.error()"
   ]
  },
  {
   "cell_type": "code",
   "execution_count": null,
   "metadata": {
    "colab": {},
    "colab_type": "code",
    "id": "tTIWIR0qV91X"
   },
   "outputs": [],
   "source": []
  },
  {
   "cell_type": "code",
   "execution_count": null,
   "metadata": {
    "colab": {},
    "colab_type": "code",
    "id": "uXQ7DaRHcTQE"
   },
   "outputs": [],
   "source": []
  }
 ],
 "metadata": {
  "colab": {
   "collapsed_sections": [],
   "name": "MyBackpropNew.ipynb",
   "provenance": [],
   "version": "0.3.2"
  },
  "kernelspec": {
   "display_name": "Python 3",
   "language": "python",
   "name": "python3"
  },
  "language_info": {
   "codemirror_mode": {
    "name": "ipython",
    "version": 3
   },
   "file_extension": ".py",
   "mimetype": "text/x-python",
   "name": "python",
   "nbconvert_exporter": "python",
   "pygments_lexer": "ipython3",
   "version": "3.6.5"
  }
 },
 "nbformat": 4,
 "nbformat_minor": 1
}
