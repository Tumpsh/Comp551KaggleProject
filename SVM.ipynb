{
 "cells": [
  {
   "cell_type": "code",
   "execution_count": null,
   "metadata": {
    "colab": {
     "base_uri": "https://localhost:8080/",
     "height": 122
    },
    "colab_type": "code",
    "executionInfo": {
     "elapsed": 30835,
     "status": "ok",
     "timestamp": 1543340683561,
     "user": {
      "displayName": "Zaid Yahya",
      "photoUrl": "https://lh3.googleusercontent.com/-yftv3eJwV9g/AAAAAAAAAAI/AAAAAAAAABA/QiSM4ntrZIA/s64/photo.jpg",
      "userId": "02952936274959417276"
     },
     "user_tz": 300
    },
    "id": "VjFOmHB5S9L0",
    "outputId": "98768246-10d0-4c9d-a3e6-7ae975bde580"
   },
   "outputs": [],
   "source": [
    "import numpy as np \n",
    "import pandas as pd \n",
    "import matplotlib.pyplot as plt\n",
    "\n",
    "import multiprocessing\n",
    "from multiprocessing.pool import ThreadPool\n",
    "\n",
    "from sklearn.svm import SVC\n",
    "from sklearn.model_selection import train_test_split\n",
    "from sklearn.preprocessing import LabelBinarizer\n",
    "from sklearn.ensemble import AdaBoostClassifier\n",
    "from sklearn.preprocessing import LabelEncoder\n",
    "from sklearn.metrics import classification_report,accuracy_score\n",
    "from skimage.feature import hog\n",
    "from skimage import color\n",
    "\n",
    "import cv2\n",
    "\n",
    "import os\n"
   ]
  },
  {
   "cell_type": "code",
   "execution_count": null,
   "metadata": {
    "colab": {},
    "colab_type": "code",
    "id": "pl2MmYJuTECc"
   },
   "outputs": [],
   "source": [
    "dataPath = 'all'\n",
    "localPath = ''\n",
    "\n",
    "images = np.load(dataPath + '/train_images.npy', encoding=\"bytes\")\n",
    "labels = pd.read_csv(dataPath + '/train_labels.csv')"
   ]
  },
  {
   "cell_type": "code",
   "execution_count": null,
   "metadata": {
    "colab": {},
    "colab_type": "code",
    "id": "1YUJ4w24THyZ"
   },
   "outputs": [],
   "source": [
    "allData = pd.DataFrame(np.array(list(images[:,1]))).assign(label=labels['Category'])\n",
    "num_classes = len(labels['Category'].unique())\n",
    "valueCounts = labels['Category'].value_counts()\n",
    "\n",
    "xTrain, xValid = train_test_split(allData, stratify=labels['Category'], test_size=0.15)\n",
    "trainInds = xTrain.index\n",
    "validInds = xValid.index\n",
    "xTrainRaw = xTrain.drop('label', axis=1).values.reshape((xTrain.shape[0], 100, 100, 1))\n",
    "xValidRaw = xValid.drop('label', axis=1).values.reshape((xValid.shape[0], 100, 100, 1))\n",
    "\n",
    "yTrain = labels.iloc[trainInds, 1].values\n",
    "yValid = labels.iloc[validInds, 1].values"
   ]
  },
  {
   "cell_type": "code",
   "execution_count": null,
   "metadata": {
    "colab": {},
    "colab_type": "code",
    "id": "xc5dbzNdTMxb"
   },
   "outputs": [],
   "source": [
    "def preProcessImage(image, cutoff=127, areaCutoff=14, maxContours=4, fliplr=False):\n",
    "    image = np.uint8(image)\n",
    "    im = np.uint8(image)\n",
    "    red, thresh = cv2.threshold(im, cutoff, 255, 0)\n",
    "    im2, contours, hierarchy= cv2.findContours(thresh, cv2.RETR_LIST, cv2.CHAIN_APPROX_SIMPLE)\n",
    "    mask = np.zeros(im.shape, np.uint8)\n",
    "    largest_contours = sorted(contours, key=cv2.contourArea, reverse=True)\n",
    "    \n",
    "    for ind, contour in enumerate(largest_contours[:maxContours]):\n",
    "        if cv2.contourArea(contour) > areaCutoff:\n",
    "            x, y, w, h = cv2.boundingRect(contour)\n",
    "            mask[y:y+h, x:x+w] = 255\n",
    "        \n",
    "    filteredImage = cv2.bitwise_and(image, image, mask=mask)\n",
    "    if fliplr:\n",
    "        return np.fliplr(filteredImage).reshape((image.shape))\n",
    "    return filteredImage.reshape((image.shape))"
   ]
  },
  {
   "cell_type": "code",
   "execution_count": null,
   "metadata": {
    "colab": {},
    "colab_type": "code",
    "id": "UUAAnvZnTQUw"
   },
   "outputs": [],
   "source": [
    "pool = ThreadPool(multiprocessing.cpu_count())\n",
    "xTrainUnflipped = pool.map(lambda im: preProcessImage(im).flatten(), [xTrainRaw[i] for i in range(xTrainRaw.shape[0])])\n",
    "xTrainUnflipped = np.array(xTrainUnflipped)\n",
    "xTrainFlipped = pool.map(lambda im: preProcessImage(im, fliplr=True).flatten(), [xTrainRaw[i] for i in range(xTrainRaw.shape[0])])\n",
    "xTrainFlipped = np.array(xTrainFlipped)\n",
    "\n",
    "xValidUnflipped = pool.map(lambda im: preProcessImage(im).flatten(), [xValidRaw[i] for i in range(xValidRaw.shape[0])])\n",
    "xValidUnflipped = np.array(xValidUnflipped)\n",
    "xValidFlipped = pool.map(lambda im: preProcessImage(im, fliplr=True).flatten(), [xValidRaw[i] for i in range(xValidRaw.shape[0])])\n",
    "xValidFlipped = np.array(xValidFlipped)\n",
    "\n",
    "\n",
    "xTrain = np.concatenate((xTrainUnflipped, xTrainFlipped), axis=0)\n",
    "xValid = np.concatenate((xValidUnflipped, xValidFlipped), axis=0)\n",
    "\n",
    "yTrain = np.concatenate((yTrain, yTrain), axis=0)\n",
    "yValid = np.concatenate((yValid, yValid), axis=0)\n",
    "\n",
    "pool.close()\n",
    "pool.join()"
   ]
  },
  {
   "cell_type": "code",
   "execution_count": null,
   "metadata": {
    "colab": {},
    "colab_type": "code",
    "id": "ns1_xrfZUNuU"
   },
   "outputs": [],
   "source": [
    "lb = LabelEncoder()\n",
    "lb.fit(labels['Category'].unique())\n",
    "yTrainFinal = lb.transform(yTrain)\n",
    "yValidFinal = lb.transform(yValid)"
   ]
  },
  {
   "cell_type": "markdown",
   "metadata": {
    "colab_type": "text",
    "id": "A0X_ynAge4Zp"
   },
   "source": [
    "**Simple Classifier**"
   ]
  },
  {
   "cell_type": "code",
   "execution_count": null,
   "metadata": {
    "colab": {},
    "colab_type": "code",
    "id": "HTgmaxf9UhCF"
   },
   "outputs": [],
   "source": [
    "clf = SVC(gamma=.001)\n",
    "clf.fit(xTrain, yTrainFinal)\n",
    "\n",
    "y_pred = clf.predict(xValid)\n",
    "\n",
    "print(\"Accuracy: \"+str(accuracy_score(yValidFinal, y_pred)))\n",
    "print('\\n')\n",
    "print(classification_report(yValidFinal, y_pred))"
   ]
  },
  {
   "cell_type": "markdown",
   "metadata": {
    "colab_type": "text",
    "id": "geUsqx7ve74-"
   },
   "source": [
    "**Adaptive Boosting**"
   ]
  },
  {
   "cell_type": "code",
   "execution_count": null,
   "metadata": {
    "colab": {},
    "colab_type": "code",
    "id": "IBCMHvG_PxAG"
   },
   "outputs": [],
   "source": [
    "bdt = AdaBoostClassifier(SVC(gamma=.001, decision_function_shape='ovo'),\n",
    "                         algorithm=\"SAMME\",\n",
    "                         n_estimators=150)"
   ]
  },
  {
   "cell_type": "code",
   "execution_count": null,
   "metadata": {
    "colab": {},
    "colab_type": "code",
    "id": "C3ujj_XaQAYE"
   },
   "outputs": [],
   "source": [
    "bdt.fit(xTrain, yTrainFinal)"
   ]
  },
  {
   "cell_type": "code",
   "execution_count": null,
   "metadata": {
    "colab": {},
    "colab_type": "code",
    "id": "v5KH2MDOmQdD"
   },
   "outputs": [],
   "source": [
    "y_pred = bdt.predict(xValid)\n",
    "print(\"Accuracy: \"+str(accuracy_score(yValidFinal, y_pred)))\n",
    "print('\\n')\n",
    "print(classification_report(yValidFinal, y_pred))"
   ]
  }
 ],
 "metadata": {
  "colab": {
   "collapsed_sections": [],
   "name": "current.ipynb",
   "provenance": [],
   "version": "0.3.2"
  },
  "kernelspec": {
   "display_name": "Python 3",
   "language": "python",
   "name": "python3"
  },
  "language_info": {
   "codemirror_mode": {
    "name": "ipython",
    "version": 3
   },
   "file_extension": ".py",
   "mimetype": "text/x-python",
   "name": "python",
   "nbconvert_exporter": "python",
   "pygments_lexer": "ipython3",
   "version": "3.6.5"
  }
 },
 "nbformat": 4,
 "nbformat_minor": 1
}
